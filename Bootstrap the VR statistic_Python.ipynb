{
 "cells": [
  {
   "cell_type": "markdown",
   "metadata": {},
   "source": [
    "\n",
    "# 1 Bootstrapping"
   ]
  },
  {
   "cell_type": "code",
   "execution_count": 56,
   "metadata": {},
   "outputs": [],
   "source": [
    "import pandas as pd\n",
    "from math import sqrt\n",
    "import scipy.stats as st\n",
    "data = pd.read_csv('SP 500.csv',sep=',',index_col=None,header=0)"
   ]
  },
  {
   "cell_type": "code",
   "execution_count": 57,
   "metadata": {},
   "outputs": [
    {
     "data": {
      "text/html": [
       "<div>\n",
       "<style scoped>\n",
       "    .dataframe tbody tr th:only-of-type {\n",
       "        vertical-align: middle;\n",
       "    }\n",
       "\n",
       "    .dataframe tbody tr th {\n",
       "        vertical-align: top;\n",
       "    }\n",
       "\n",
       "    .dataframe thead th {\n",
       "        text-align: right;\n",
       "    }\n",
       "</style>\n",
       "<table border=\"1\" class=\"dataframe\">\n",
       "  <thead>\n",
       "    <tr style=\"text-align: right;\">\n",
       "      <th></th>\n",
       "      <th>Dates</th>\n",
       "      <th>SP500</th>\n",
       "    </tr>\n",
       "  </thead>\n",
       "  <tbody>\n",
       "    <tr>\n",
       "      <th>0</th>\n",
       "      <td>1962-01-31</td>\n",
       "      <td>68.84</td>\n",
       "    </tr>\n",
       "    <tr>\n",
       "      <th>1</th>\n",
       "      <td>1962-02-28</td>\n",
       "      <td>69.96</td>\n",
       "    </tr>\n",
       "    <tr>\n",
       "      <th>2</th>\n",
       "      <td>1962-03-31</td>\n",
       "      <td>69.55</td>\n",
       "    </tr>\n",
       "    <tr>\n",
       "      <th>3</th>\n",
       "      <td>1962-04-30</td>\n",
       "      <td>65.24</td>\n",
       "    </tr>\n",
       "    <tr>\n",
       "      <th>4</th>\n",
       "      <td>1962-05-31</td>\n",
       "      <td>59.63</td>\n",
       "    </tr>\n",
       "  </tbody>\n",
       "</table>\n",
       "</div>"
      ],
      "text/plain": [
       "        Dates  SP500\n",
       "0  1962-01-31  68.84\n",
       "1  1962-02-28  69.96\n",
       "2  1962-03-31  69.55\n",
       "3  1962-04-30  65.24\n",
       "4  1962-05-31  59.63"
      ]
     },
     "execution_count": 57,
     "metadata": {},
     "output_type": "execute_result"
    }
   ],
   "source": [
    "data.head()"
   ]
  },
  {
   "cell_type": "code",
   "execution_count": 58,
   "metadata": {},
   "outputs": [
    {
     "name": "stdout",
     "output_type": "stream",
     "text": [
      "['Dates', 'SP500']\n"
     ]
    }
   ],
   "source": [
    "ColNames = data.columns.to_list()\n",
    "print(ColNames)"
   ]
  },
  {
   "cell_type": "code",
   "execution_count": 59,
   "metadata": {},
   "outputs": [],
   "source": [
    "price_index= data['SP500'].apply(lambda x: float(x))"
   ]
  },
  {
   "cell_type": "code",
   "execution_count": 60,
   "metadata": {},
   "outputs": [],
   "source": [
    "import numpy as np\n",
    "from statsmodels.tsa.stattools import acf"
   ]
  },
  {
   "cell_type": "code",
   "execution_count": 61,
   "metadata": {},
   "outputs": [],
   "source": [
    "def VR1(x,k):\n",
    "  #x = np.matrix(x).reshape(1,len(x))\n",
    "  kvec=np.array([k])\n",
    "  m = (acf(x,nlags=max(kvec)))[1:(max(kvec)+1)]\n",
    "  VR = []\n",
    "  w=[]\n",
    "  for j in range(1,k+1):\n",
    "        w.append(1-j/k)\n",
    "  temp=np.multiply(np.array(w),np.array(m[0:k]))\n",
    "  VR.append(1+ 2*sum(temp.tolist())) \n",
    "  return(VR)\n"
   ]
  },
  {
   "cell_type": "code",
   "execution_count": 62,
   "metadata": {},
   "outputs": [],
   "source": [
    "def VR2(x,kvec):\n",
    "  #x = np.matrix(x).reshape(1,len(x))\n",
    "  #kvec=np.array([kvec])\n",
    "    m = (acf(x,nlags=max(kvec)))[1:(max(kvec)+1)]\n",
    "    VR = []\n",
    "    for i in range(0,len(kvec)):\n",
    "        k = kvec[i]\n",
    "        w=[]\n",
    "    for j in range(1,k+1):\n",
    "        w.append(1-j/k)\n",
    "    temp=np.multiply(np.array(w),np.array(m[0:k]))\n",
    "    VR.append(1+ 2*sum(temp.tolist())) \n",
    "    return(VR)"
   ]
  },
  {
   "cell_type": "code",
   "execution_count": 63,
   "metadata": {},
   "outputs": [],
   "source": [
    "def Lo_MacKinlay_stat(y,k):\n",
    "    #y = np.matrix(y)\n",
    "    y1 = (y-y.mean())**2\n",
    "    n =y.shape[0]\n",
    "    vr = VR1(y,k)\n",
    "    tem1 = 2*(2*k-1)*(k-1)\n",
    "    tem2 = 3*k\n",
    "    m1=[]\n",
    "    for i in range(0,len(vr)):\n",
    "        m1.append(sqrt(n)*(vr[i]-1)/sqrt(tem1/tem2))\n",
    "    w=[]\n",
    "    for i in range(1,k):\n",
    "        w.append(4*(1-i/k)**2) \n",
    "    dvec =[]\n",
    "    for j in range(0,k-1):\n",
    "        dvec.append(sum(np.multiply(np.array( y1[(j+1):n]),np.array(y1[1:(n-j)])))/( sum(y1)**2 ))\n",
    "    summ = np.multiply(np.array(w),np.array(dvec))\n",
    "    m2=[]\n",
    "    for i in range(0,len(vr)):\n",
    "        m2.append(sqrt(n)*(vr[i]-1)*((n*summ)**(-.5)))\n",
    "    list1=[]\n",
    "    list1.append(m1)\n",
    "    list1.append(m2)\n",
    "    return(list1)\n",
    "\n",
    "Lo_MacKinlay_stat = function(y,k)\n",
    "{\n",
    "    y = as.matrix(y)\n",
    "    y1 = (y-mean(y))^2\n",
    "    n =nrow(y) \n",
    "    \n",
    "    vr = VR(y,k)\n",
    "    tem1 = 2*(2*k-1)*(k-1); tem2 <- 3*k\n",
    "    m1 = sqrt(n)*(vr-1)/sqrt( tem1/tem2 )\n",
    "    \n",
    "    w = 4*as.matrix((1-(1:(k-1))/k)^2,nrow=k-1)\n",
    "    dvec = matrix(NA, nrow=(k-1), ncol=1)\n",
    "    for (j in 1:(k-1))\n",
    "    { \n",
    "    dvec[j] = sum(y1[(j+1):n] * y1[1:(n-j)])/( sum(y1)^2 )\n",
    "    }\n",
    "    summ = crossprod(w,dvec)\n",
    "    m2 = sqrt(n)*(vr-1)*((n*summ)^(-.5) )\n",
    "return(list(LM1=m1,LM2=m2))\n",
    "}"
   ]
  },
  {
   "cell_type": "code",
   "execution_count": null,
   "metadata": {},
   "outputs": [],
   "source": [
    "Lo_MacKinlay_stat = function(y,k)\n",
    "{\n",
    "    y = as.matrix(y)\n",
    "    y1 = (y-mean(y))^2\n",
    "    n =nrow(y) \n",
    "    \n",
    "    vr = VR(y,k)\n",
    "    tem1 = 2*(2*k-1)*(k-1); tem2 <- 3*k\n",
    "    m1 = sqrt(n)*(vr-1)/sqrt( tem1/tem2 )\n",
    "    \n",
    "    w = 4*as.matrix((1-(1:(k-1))/k)^2,nrow=k-1)\n",
    "    dvec = matrix(NA, nrow=(k-1), ncol=1)\n",
    "    for (j in 1:(k-1))\n",
    "    { \n",
    "    dvec[j] = sum(y1[(j+1):n] * y1[1:(n-j)])/( sum(y1)^2 )\n",
    "    }\n",
    "    summ = crossprod(w,dvec)\n",
    "    m2 = sqrt(n)*(vr-1)*((n*summ)^(-.5) )\n",
    "return(list(LM1=m1,LM2=m2))\n",
    "}"
   ]
  },
  {
   "cell_type": "code",
   "execution_count": 64,
   "metadata": {},
   "outputs": [],
   "source": [
    "def LM_stat_vec(y,kvec):\n",
    "\n",
    "    #y = as.matrix(y)\n",
    "    n = y.shape[0]\n",
    "    mq = np.empty((len(kvec),2))\n",
    "    for i in range(0,len(kvec)):\n",
    "        k = kvec[i]\n",
    "        LM = Lo_MacKinlay_stat(y,k)\n",
    "        mq[i][0]=LM[0][0]\n",
    "        mq[i][1]=LM[1][0][0]\n",
    "    list2=[]\n",
    "    list2.append(mq[:,0])\n",
    "    list2.append(mq[:,1])\n",
    "    return(list2)"
   ]
  },
  {
   "cell_type": "code",
   "execution_count": null,
   "metadata": {},
   "outputs": [],
   "source": [
    "LM_stat_vec = function(y,kvec)\n",
    "{\n",
    "    y = as.matrix(y)\n",
    "    n = nrow(y)\n",
    "    mq = matrix(NA, nrow=length(kvec), ncol=2)\n",
    "    for (i in 1:length(kvec))\n",
    "    {\n",
    "    k = kvec[i]\n",
    "    LM = Lo_MacKinlay_stat(y,k)\n",
    "    mq[i,] = cbind(LM$LM1,LM$LM2)\n",
    "    }\n",
    "    \n",
    "return(list(M1=mq[,1],M2=mq[,2]))\n",
    "}"
   ]
  },
  {
   "cell_type": "code",
   "execution_count": 65,
   "metadata": {},
   "outputs": [],
   "source": [
    "def Bootstrap(r,kvec,B,prob=[0.025,0.975]):\n",
    "    np.random.seed(1)\n",
    "    VR = LM_stat_vec(r,kvec)\n",
    "    VR_mat = np.empty((B,len(kvec)))\n",
    "    VR_stat =VR[1].tolist()\n",
    "    p = np.empty((VR_mat.shape[1],1))\n",
    "    CI = np.empty((VR_mat.shape[1],len(prob)))\n",
    "    for i in range(1,B):\n",
    "        rs = r * np.random.normal(0,1,len(r))\n",
    "        VRs = LM_stat_vec(rs,kvec)\n",
    "        for j in range(0,len(kvec)):\n",
    "            VR_mat[i][j] = VRs[1][j]\n",
    "    for i in range(0,len(kvec)):\n",
    "        tem=[]\n",
    "        for j in range(0,VR_mat.shape[0]):\n",
    "            tem.append(abs(VR_mat[j,i]) > abs(VR_stat[i]))\n",
    "        tem = [1 if m ==True else 0 for m in tem]\n",
    "        p[i][0] = np.array(tem).mean()\n",
    "        CI[i] = np.quantile(VR_mat[:,1],prob)\n",
    "        \n",
    "    CI = CI[0:len(kvec),]\n",
    "    CI=pd.DataFrame(CI,columns=['2.5%','97.5%'],index=['k=2','k=4','k=8'])\n",
    "    tinydict ={'Holding.Period':kvec,'VR_statistic':p[0:len(kvec)].tolist(),'CI':CI}\n",
    "    return(tinydict)\n"
   ]
  },
  {
   "cell_type": "code",
   "execution_count": null,
   "metadata": {},
   "outputs": [],
   "source": [
    "Bootstrap = function(r,k,B,prob=c(0.025,0.975))\n",
    "{\n",
    "    set.seed(666)\n",
    "    r = as.matrix(r)\n",
    "    VR = LM_stat_vec(r,kvec)\n",
    "    \n",
    "    VR_mat = matrix(NA, nrow=B, ncol=length(k))\n",
    "    \n",
    "    VR_stat = matrix(c(VR$M2))\n",
    "    for (i in 1:B)\n",
    "    {\n",
    "    rs <- r * rnorm(nrow(r))\n",
    "    VRs <- LM_stat_vec(rs,k)\n",
    "    VR_mat[i,] <- c(VRs$M2)\n",
    "    }\n",
    "    \n",
    "    p <- matrix(NA,nrow = ncol(VR_mat), ncol=1)\n",
    "    CI <- matrix(NA,nrow = ncol(VR_mat), ncol=length(prob))\n",
    "    for (i in 1:ncol(VR_mat))\n",
    "        {\n",
    "        tem <- abs(VR_mat[,i]) > abs(VR_stat[i])\n",
    "        tem[tem == \"TRUE\"] <- 1\n",
    "        p[i] <- mean(tem) \n",
    "        CI[i,] <- quantile(VR_mat[,i],prob)\n",
    "        }\n",
    "   CI <- CI[1:length(kvec),]\n",
    "   colnames(CI) <- paste(100*prob,\"%\",sep=\"\")\n",
    "   rownames(CI) <- paste(\"k=\",kvec,sep=\"\")\n",
    "         \n",
    "return(list(Holding.Period=k,VR_statistic=as.numeric(p[1:length(k)]),CI=CI))\n",
    "}"
   ]
  },
  {
   "cell_type": "code",
   "execution_count": 66,
   "metadata": {},
   "outputs": [],
   "source": [
    "nob = len(price_index)\n",
    "r=[]\n",
    "for i in range(0,nob-1):\n",
    "    r.append(np.log(price_index[i+1])-np.log(price_index[i]))\n",
    "r=np.array(r)                             \n",
    "kvec = [2,4,8] \n",
    "B = 1000"
   ]
  },
  {
   "cell_type": "code",
   "execution_count": 67,
   "metadata": {},
   "outputs": [
    {
     "name": "stdout",
     "output_type": "stream",
     "text": [
      "Holding.Period \n",
      " [2, 4, 8] \n",
      "\n",
      "VR_statistic \n",
      " [[0.258], [0.68], [0.381]] \n",
      "\n",
      "CI \n",
      "          2.5%     97.5%\n",
      "k=2 -0.885194  0.923748\n",
      "k=4 -0.885194  0.923748\n",
      "k=8 -0.885194  0.923748 \n",
      "\n"
     ]
    }
   ],
   "source": [
    "result=Bootstrap(r,kvec,1000,prob=[0.025,0.975])\n",
    "for (key,value) in result.items():\n",
    "    print (key,'\\n',value,'\\n')"
   ]
  },
  {
   "cell_type": "markdown",
   "metadata": {},
   "source": [
    "# 2 computed by usual asymptotic distribution"
   ]
  },
  {
   "cell_type": "code",
   "execution_count": 45,
   "metadata": {},
   "outputs": [
    {
     "data": {
      "text/plain": [
       "[array([0.9464672 , 0.30628207, 0.67569741]),\n",
       " array([0.40867417, 0.16494379, 0.49316228])]"
      ]
     },
     "execution_count": 45,
     "metadata": {},
     "output_type": "execute_result"
    }
   ],
   "source": [
    "LM_stat_vec(r,kvec)"
   ]
  },
  {
   "cell_type": "markdown",
   "metadata": {},
   "source": [
    "array1 is the statistic under iid homoskedastic null hypothesis, M2 is the statistic under heteroskedastic null hypothesis. So, we will use M2 statistics here and compare."
   ]
  },
  {
   "cell_type": "code",
   "execution_count": 46,
   "metadata": {},
   "outputs": [],
   "source": [
    "def P_value(x,paramet,side=0):\n",
    "    n = len(paramet)\n",
    "    p = st.norm.cdf(x,paramet[0],paramet[1])       \n",
    "    if side <0:\n",
    "        return p\n",
    "    elif side >0:\n",
    "        return 1-p\n",
    "    elif p< 0.5:\n",
    "        return 2*p\n",
    "    else :\n",
    "        return 2*(1-p)\n",
    "\n"
   ]
  },
  {
   "cell_type": "code",
   "execution_count": 47,
   "metadata": {},
   "outputs": [
    {
     "data": {
      "text/plain": [
       "0.04999579029644097"
      ]
     },
     "execution_count": 47,
     "metadata": {},
     "output_type": "execute_result"
    }
   ],
   "source": [
    "x=P_value(1.96,[0,1],0)\n",
    "x"
   ]
  },
  {
   "cell_type": "markdown",
   "metadata": {},
   "source": [
    "This is the p value using the usual asymptotic distribution"
   ]
  },
  {
   "cell_type": "code",
   "execution_count": 50,
   "metadata": {},
   "outputs": [
    {
     "data": {
      "text/plain": [
       "[0.682778792652722, 0.8689882287080333, 0.6218979304967542]"
      ]
     },
     "execution_count": 50,
     "metadata": {},
     "output_type": "execute_result"
    }
   ],
   "source": [
    "asp = LM_stat_vec(r,kvec)[1]\n",
    "p_list_asp =[]\n",
    "for i in asp:\n",
    "    p_list_asp.append(P_value(i,[0,1],0))\n",
    "p_list_asp"
   ]
  },
  {
   "cell_type": "markdown",
   "metadata": {},
   "source": [
    "This is the p value using bootstrapping"
   ]
  },
  {
   "cell_type": "code",
   "execution_count": 52,
   "metadata": {},
   "outputs": [
    {
     "data": {
      "text/plain": [
       "[0.7964069072245956, 0.4965044609071412, 0.7032032485372492]"
      ]
     },
     "execution_count": 52,
     "metadata": {},
     "output_type": "execute_result"
    }
   ],
   "source": [
    "bs = Bootstrap(r,kvec,1000,prob=[0.025,0.975])['VR_statistic']\n",
    "p_list_bs =[]\n",
    "for i in bs:\n",
    "    p_list_bs.append(P_value(i,[0,1],0)[0])\n",
    "\n",
    "p_list_bs"
   ]
  },
  {
   "cell_type": "markdown",
   "metadata": {},
   "source": [
    "their p value are not the same. But the conclusion is the same, meaning that p values are larger than 0.05, rejecting the null hypothesis, which shows that the sp500 return series is not stationary and random walk. When q is small, the p value computed by two methods are quite different. However, when q becomes large, their p values are very close"
   ]
  },
  {
   "cell_type": "code",
   "execution_count": null,
   "metadata": {},
   "outputs": [],
   "source": []
  }
 ],
 "metadata": {
  "kernelspec": {
   "display_name": "Python 3 (ipykernel)",
   "language": "python",
   "name": "python3"
  },
  "language_info": {
   "codemirror_mode": {
    "name": "ipython",
    "version": 3
   },
   "file_extension": ".py",
   "mimetype": "text/x-python",
   "name": "python",
   "nbconvert_exporter": "python",
   "pygments_lexer": "ipython3",
   "version": "3.9.12"
  }
 },
 "nbformat": 4,
 "nbformat_minor": 4
}
