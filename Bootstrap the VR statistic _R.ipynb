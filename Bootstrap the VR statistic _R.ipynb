{
 "cells": [
  {
   "cell_type": "markdown",
   "metadata": {},
   "source": [
    "### 1 Bootstrapping"
   ]
  },
  {
   "cell_type": "code",
   "execution_count": 8,
   "metadata": {},
   "outputs": [
    {
     "ename": "SyntaxError",
     "evalue": "invalid syntax (385723413.py, line 1)",
     "output_type": "error",
     "traceback": [
      "\u001b[0;36m  Input \u001b[0;32mIn [8]\u001b[0;36m\u001b[0m\n\u001b[0;31m    pip3 install ipykernel\u001b[0m\n\u001b[0m         ^\u001b[0m\n\u001b[0;31mSyntaxError\u001b[0m\u001b[0;31m:\u001b[0m invalid syntax\n"
     ]
    }
   ],
   "source": [
    "pip3 install ipykernel"
   ]
  },
  {
   "cell_type": "code",
   "execution_count": 2,
   "metadata": {},
   "outputs": [
    {
     "ename": "NameError",
     "evalue": "name 'read' is not defined",
     "output_type": "error",
     "traceback": [
      "\u001b[0;31m---------------------------------------------------------------------------\u001b[0m",
      "\u001b[0;31mNameError\u001b[0m                                 Traceback (most recent call last)",
      "Input \u001b[0;32mIn [2]\u001b[0m, in \u001b[0;36m<cell line: 1>\u001b[0;34m()\u001b[0m\n\u001b[0;32m----> 1\u001b[0m data \u001b[38;5;241m=\u001b[39m \u001b[43mread\u001b[49m\u001b[38;5;241m.\u001b[39mcsv(\u001b[38;5;124m\"\u001b[39m\u001b[38;5;124mSP 500.csv\u001b[39m\u001b[38;5;124m\"\u001b[39m)\n",
      "\u001b[0;31mNameError\u001b[0m: name 'read' is not defined"
     ]
    }
   ],
   "source": [
    "data = read.csv(\"SP 500.csv\")"
   ]
  },
  {
   "cell_type": "code",
   "execution_count": null,
   "metadata": {},
   "outputs": [],
   "source": [
    "data"
   ]
  },
  {
   "cell_type": "code",
   "execution_count": null,
   "metadata": {},
   "outputs": [],
   "source": [
    "colnames(data) "
   ]
  },
  {
   "cell_type": "code",
   "execution_count": null,
   "metadata": {
    "scrolled": true
   },
   "outputs": [],
   "source": [
    "price_index=data$S.P.500..Index"
   ]
  },
  {
   "cell_type": "code",
   "execution_count": null,
   "metadata": {},
   "outputs": [],
   "source": [
    "VR = function(x,kvec)\n",
    "{\n",
    "x = as.matrix(x)\n",
    "m = acf(x,lag.max = max(kvec),plot=FALSE)$acf[2:(max(kvec)+1)]  \n",
    "VR = matrix(NA,nrow=length(kvec))\n",
    "for(i in 1:length(kvec))\n",
    "{\n",
    "k = kvec[i]\n",
    "w = (1-(1:(k-1))/k)\n",
    "VR[i] = 1+ 2*sum(w*m[1:(k-1)])\n",
    "}\n",
    "return(VR)\n",
    "}"
   ]
  },
  {
   "cell_type": "code",
   "execution_count": null,
   "metadata": {},
   "outputs": [],
   "source": [
    "Lo_MacKinlay_stat = function(y,k)\n",
    "{\n",
    "    y = as.matrix(y)\n",
    "    y1 = (y-mean(y))^2\n",
    "    n =nrow(y) \n",
    "    \n",
    "    vr = VR(y,k)\n",
    "    tem1 = 2*(2*k-1)*(k-1); tem2 <- 3*k\n",
    "    m1 = sqrt(n)*(vr-1)/sqrt( tem1/tem2 )\n",
    "    \n",
    "    w = 4*as.matrix((1-(1:(k-1))/k)^2,nrow=k-1)\n",
    "    dvec = matrix(NA, nrow=(k-1), ncol=1)\n",
    "    for (j in 1:(k-1))\n",
    "    { \n",
    "    dvec[j] = sum(y1[(j+1):n] * y1[1:(n-j)])/( sum(y1)^2 )\n",
    "    }\n",
    "    summ = crossprod(w,dvec)\n",
    "    m2 = sqrt(n)*(vr-1)*((n*summ)^(-.5) )\n",
    "return(list(LM1=m1,LM2=m2))\n",
    "}"
   ]
  },
  {
   "cell_type": "code",
   "execution_count": null,
   "metadata": {},
   "outputs": [],
   "source": [
    "LM_stat_vec = function(y,kvec)\n",
    "{\n",
    "    y = as.matrix(y)\n",
    "    n = nrow(y)\n",
    "    mq = matrix(NA, nrow=length(kvec), ncol=2)\n",
    "    for (i in 1:length(kvec))\n",
    "    {\n",
    "    k = kvec[i]\n",
    "    LM = Lo_MacKinlay_stat(y,k)\n",
    "    mq[i,] = cbind(LM$LM1,LM$LM2)\n",
    "    }\n",
    "    \n",
    "return(list(M1=mq[,1],M2=mq[,2]))\n",
    "}"
   ]
  },
  {
   "cell_type": "code",
   "execution_count": null,
   "metadata": {},
   "outputs": [],
   "source": [
    "Bootstrap = function(r,k,B,prob=c(0.025,0.975))\n",
    "{\n",
    "    set.seed(666)\n",
    "    r = as.matrix(r)\n",
    "    VR = LM_stat_vec(r,kvec)\n",
    "    \n",
    "    VR_mat = matrix(NA, nrow=B, ncol=length(k))\n",
    "    \n",
    "    VR_stat = matrix(c(VR$M2))\n",
    "    for (i in 1:B)\n",
    "    {\n",
    "    rs <- r * rnorm(nrow(r))\n",
    "    VRs <- LM_stat_vec(rs,k)\n",
    "    VR_mat[i,] <- c(VRs$M2)\n",
    "    }\n",
    "    \n",
    "    p <- matrix(NA,nrow = ncol(VR_mat), ncol=1)\n",
    "    CI <- matrix(NA,nrow = ncol(VR_mat), ncol=length(prob))\n",
    "    for (i in 1:ncol(VR_mat))\n",
    "        {\n",
    "        tem <- abs(VR_mat[,i]) > abs(VR_stat[i])\n",
    "        tem[tem == \"TRUE\"] <- 1\n",
    "        p[i] <- mean(tem) \n",
    "        CI[i,] <- quantile(VR_mat[,i],prob)\n",
    "        }\n",
    "   CI <- CI[1:length(kvec),]\n",
    "   colnames(CI) <- paste(100*prob,\"%\",sep=\"\")\n",
    "   rownames(CI) <- paste(\"k=\",kvec,sep=\"\")\n",
    "         \n",
    "return(list(Holding.Period=k,VR_statistic=as.numeric(p[1:length(k)]),CI=CI))\n",
    "}"
   ]
  },
  {
   "cell_type": "code",
   "execution_count": null,
   "metadata": {},
   "outputs": [],
   "source": [
    "nob = length(price_index)\n",
    "r = log(price_index[2:nob])-log(price_index[1:(nob-1)])    \n",
    "k = c(2,4,8) \n",
    "B = 1000"
   ]
  },
  {
   "cell_type": "code",
   "execution_count": null,
   "metadata": {},
   "outputs": [],
   "source": [
    "Bootstrap(r,k,1000,prob=c(0.025,0.975))"
   ]
  },
  {
   "cell_type": "markdown",
   "metadata": {},
   "source": [
    "The corresponding variance ratio computed by bootstrapping is shown in the above table."
   ]
  },
  {
   "cell_type": "markdown",
   "metadata": {},
   "source": [
    "### 2 computed by usual asymptotic distribution"
   ]
  },
  {
   "cell_type": "code",
   "execution_count": null,
   "metadata": {},
   "outputs": [],
   "source": [
    "LM_stat_vec(r,k)"
   ]
  },
  {
   "cell_type": "markdown",
   "metadata": {},
   "source": [
    "M1 is the statistic under iid homoskedastic null hypothesis, M2 is the statistic under heteroskedastic null hypothesis. So, we will use M2 statistics here and compare."
   ]
  },
  {
   "cell_type": "code",
   "execution_count": null,
   "metadata": {},
   "outputs": [],
   "source": [
    "P_value = function(cdf,x,paramet,side=0){\n",
    "  n = length(paramet)\n",
    "  p = switch(n+1,\n",
    "             cdf(x),\n",
    "             cdf(x,paramet),\n",
    "             cdf(x,paramet[1],paramet[2]),\n",
    "             cdf(x,paramet[1],paramet[2],paramet[3])\n",
    "  )\n",
    "  if(side <0) p\n",
    "  else if(side >0) 1-p\n",
    "  else\n",
    "    if(p<1/2) 2*p\n",
    "  else 2*(1-p)\n",
    "}\n",
    "P_value(pnorm,1.96,c(0,1),0)"
   ]
  },
  {
   "cell_type": "markdown",
   "metadata": {},
   "source": [
    "This is the p value using the usual asymptotic distribution"
   ]
  },
  {
   "cell_type": "code",
   "execution_count": null,
   "metadata": {},
   "outputs": [],
   "source": [
    "asp = LM_stat_vec(r,k)$M2\n",
    "p_list_asp =list()\n",
    "for (i in asp){\n",
    "    p_list_asp= append(p_list_asp,P_value(pnorm,i,c(0,1),0))\n",
    "} \n",
    "p_list_asp"
   ]
  },
  {
   "cell_type": "markdown",
   "metadata": {},
   "source": [
    "This is the p value using bootstrapping"
   ]
  },
  {
   "cell_type": "code",
   "execution_count": null,
   "metadata": {},
   "outputs": [],
   "source": [
    "bs = Bootstrap(r,k,1000,prob=c(0.025,0.975))$VR_statistic\n",
    "p_list_bs =list()\n",
    "for (i in bs){\n",
    "    p_list_bs= append(p_list_bs,P_value(pnorm,i,c(0,1),0))\n",
    "} \n",
    "p_list_bs"
   ]
  },
  {
   "cell_type": "markdown",
   "metadata": {},
   "source": [
    "their p value are not the same. But the conclusion is the same, meaning that p values are larger than 0.05, rejecting the null hypothesis, which shows that the sp500 return series is not stationary and random walk. When q is small, the p value computed by two methods are quite different. However, when q becomes large, their p values are very close(0,553 versus 0.578)"
   ]
  },
  {
   "cell_type": "markdown",
   "metadata": {},
   "source": [
    "### 3"
   ]
  },
  {
   "cell_type": "markdown",
   "metadata": {},
   "source": [
    "There are some issues that can complicate the calculations. One particular source is the systematical financial crisis or extreme political events that brings extreme effects to financial system. For example, like period in 2008 financial crisis, the function of financial market had been collapsed, thus the market could not be efficient. Thus, when we do computations, we should get rid of those periods and use reasonable data to do furthur tests. "
   ]
  },
  {
   "cell_type": "code",
   "execution_count": null,
   "metadata": {},
   "outputs": [],
   "source": []
  }
 ],
 "metadata": {
  "kernelspec": {
   "display_name": "Python 3 (ipykernel)",
   "language": "python",
   "name": "python3"
  },
  "language_info": {
   "codemirror_mode": {
    "name": "ipython",
    "version": 3
   },
   "file_extension": ".py",
   "mimetype": "text/x-python",
   "name": "python",
   "nbconvert_exporter": "python",
   "pygments_lexer": "ipython3",
   "version": "3.9.12"
  }
 },
 "nbformat": 4,
 "nbformat_minor": 4
}
